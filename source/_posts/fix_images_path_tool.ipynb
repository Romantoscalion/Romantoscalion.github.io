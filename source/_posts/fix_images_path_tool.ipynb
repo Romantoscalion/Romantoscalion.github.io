{
 "cells": [
  {
   "cell_type": "markdown",
   "metadata": {},
   "source": [
    "用于将md文件中的图片路径从使用符号链接的转为正常的相对路径，避免某些环境不支持符号链接的图片路径"
   ]
  },
  {
   "cell_type": "code",
   "execution_count": 1,
   "metadata": {},
   "outputs": [],
   "source": [
    "import re"
   ]
  },
  {
   "cell_type": "code",
   "execution_count": 2,
   "metadata": {},
   "outputs": [],
   "source": [
    "# 配置要处理的文件和要替换的目录\n",
    "file_name = '通过符号链接解决Typora的图片路径问题.md'\n",
    "link_dir = './Images'\n",
    "linked_dir = '../images'"
   ]
  },
  {
   "cell_type": "code",
   "execution_count": null,
   "metadata": {},
   "outputs": [],
   "source": [
    "# 查找md中的所有图片的路径\n",
    "\n",
    "def line_has_img(line):\n",
    "    return '![' in line and re.search(r'!\\[.*\\]\\(.*\\)', line) is not None\n",
    "\n",
    "ori_img_path_list = []\n",
    "new_img_path_list = []\n",
    "with open(file_name, 'r', encoding='utf-8') as f:\n",
    "    for line in f:\n",
    "        if line_has_img(line):\n",
    "            img_path = line.split('](')[1].split(')')[0]\n",
    "            new_img_path = img_path.replace(link_dir, linked_dir)\n",
    "            if new_img_path != img_path:\n",
    "                ori_img_path_list.append(img_path)\n",
    "                new_img_path_list.append(new_img_path)\n",
    "\n",
    "for i in range(len(ori_img_path_list)):\n",
    "    image_path = ori_img_path_list[i]\n",
    "    true_img_path = new_img_path_list[i]\n",
    "    print(image_path + ' -> ' + true_img_path)\n",
    "\n",
    "if len(ori_img_path_list) == 0:\n",
    "    print('没有图片路径需要替换')"
   ]
  },
  {
   "cell_type": "code",
   "execution_count": null,
   "metadata": {},
   "outputs": [],
   "source": [
    "# 确认将新的图片路径写入md文件\n",
    "\n",
    "with open(file_name, 'r', encoding='utf-8') as f:\n",
    "    lines = f.readlines()\n",
    "\n",
    "index = 0\n",
    "with open(file_name, 'w', encoding='utf-8') as f:\n",
    "    for line in lines:\n",
    "        if line_has_img(line):\n",
    "            line = line.replace(ori_img_path_list[index], new_img_path_list[index])\n",
    "            index += 1\n",
    "        f.write(line)\n",
    "    \n",
    "print('图片路径替换完成')"
   ]
  }
 ],
 "metadata": {
  "kernelspec": {
   "display_name": "Python 3",
   "language": "python",
   "name": "python3"
  },
  "language_info": {
   "codemirror_mode": {
    "name": "ipython",
    "version": 3
   },
   "file_extension": ".py",
   "mimetype": "text/x-python",
   "name": "python",
   "nbconvert_exporter": "python",
   "pygments_lexer": "ipython3",
   "version": "3.12.1"
  }
 },
 "nbformat": 4,
 "nbformat_minor": 2
}
